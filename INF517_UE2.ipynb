{
 "cells": [
  {
   "cell_type": "markdown",
   "metadata": {
    "id": "IzSU53OokLg7"
   },
   "source": [
    "# Übung 2 - Bildverarbeitungsoperatoren "
   ]
  },
  {
   "cell_type": "markdown",
   "metadata": {
    "id": "5OwTqXS7kLhA"
   },
   "source": [
    "**Name:** Dilanur Gider, **Matr.-Nr.:** 190503060\n",
    "<br>\n",
    "**Name:** Deniz Özdemirli, **Matr.-Nr.:** 190503029\n",
    "<br>\n",
    "**Name:** Aykan Berke Sandal, **Matr.-Nr.:** 190503012\n",
    "<br>\n",
    "**Name:** Mithat Can Turan, **Matr.-Nr.:** 190503021\n",
    "\n",
    "---"
   ]
  },
  {
   "cell_type": "markdown",
   "metadata": {
    "id": "uIQdD_aHkLhC"
   },
   "source": [
    "## Quellen"
   ]
  },
  {
   "cell_type": "markdown",
   "metadata": {
    "id": "aKHZLQKlOwSq"
   },
   "source": [
    "*   2.1 und 2.2 : Einfuhrung2.ipynb - SELCAN İPEK UGAY\n",
    "*   2.3 : \n",
    "\n",
    "  1.   https://github.com/adenarayana/digital-image-processing/blob/main/Python%23007%20Frequency%20Domain%20Filter%20Gaussian%20Filter.py\n",
    "  2.   http://blancosilva.github.io/course-material/2011/01/18/convolution-with-gaussian-kernels.html\n",
    "\n",
    "\n",
    "\n",
    "*   3.2 : https://docs.opencv.org/4.x/da/d53/tutorial_py_houghcircles.html \n",
    "*   4 : https://stackoverflow.com/questions/66718462/how-to-detect-different-types-of-arrows-in-image\n",
    "\n",
    "\n",
    "\n"
   ]
  },
  {
   "cell_type": "markdown",
   "metadata": {
    "id": "v4TloP33kLhC"
   },
   "source": [
    "## Bearbeitungszeitraum\n",
    "\n",
    "**Bearbeitungsbegin:** 18.11.2022\n",
    "<br>\n",
    "**Abgabe:** 25.11.2022\n",
    "\n",
    "---"
   ]
  },
  {
   "cell_type": "markdown",
   "metadata": {
    "id": "ZzAwT7qmkLhD"
   },
   "source": [
    "## Aufgabenbeschreibung"
   ]
  },
  {
   "cell_type": "markdown",
   "metadata": {
    "id": "ruhEX3ErkLhD"
   },
   "source": [
    "Ziel dieser Übung ist die praktische Anwendung, der in der Vorlesung eingeführten Bildverarbeitungsoperatoren, wie z.B. Filterung im Ortsraum zur globalen Rauschunterdrückung, morphologische Operatoren usw.\n",
    "\n",
    "\n",
    "**Hinweise zur Abgabe**\n",
    "\n",
    "- Füllen Sie unbedingt die erste Zelle unterhalb der Überschrift mit Name und Matr.-Nr. aus!\n",
    "- Entfernen Sie vor dem Upload alle Ausgaben aus dem Notebook!\n",
    "- Die Bilddatei muss nicht abgegeben werden.\n",
    "\n",
    "\n",
    "### Viel Erfolg!"
   ]
  },
  {
   "cell_type": "markdown",
   "metadata": {
    "id": "mcsuiIiikLhE"
   },
   "source": [
    "### Aufgabenbeschreibung\n",
    "Der Begriff **Leukämie**, auch Blutkrebs genannt, steht für eine Gruppe von Krebserkrankungen des blutbildenden Systems. Die einzelnen Formen unterscheiden sich bezüglich Häufigkeit, Ursachen, Behandlungsmöglichkeiten und Heilungsaussichten zum Teil stark voneinander. Leukämie geht von den Knochenmarkszellen aus und ist in der Regel durch eine stark erhöhte Zahl weißer Blutkörperchen im Blut gekennzeichnet. \n",
    "\n",
    "![BlutBild](Blutbild_LeukaemieVsGesund.jpg)\n",
    "\n",
    "\n",
    "***Eine Leukämie geht mit Veränderungen im Blutbild einher*** (Bildquelle: Apotheken-umschau)\n",
    "\n",
    "\n",
    "\n",
    "\n",
    "             "
   ]
  },
  {
   "cell_type": "markdown",
   "metadata": {
    "id": "CYjm077SkLhE"
   },
   "source": [
    "### 1. Aufgabe - Einlesen und Visualisieren eines Leukämie(CLL)-Zellenbildes\n",
    "\n",
    "Die chronische lymphatische Leukämie (CLL) ist ein niedrigmaligne, in der westlichen Welt die am häufigsten vorkommende Leukämieform. Die Diagnose dieser Erkrankung erfolgt zunächst im Blutbild. Lesen sie die Datei \"leukaemie.jpg\" ein, um ein solches Blutbild darzustellen. Visualisieren Sie das eingelesene Bild (verwenden Sie die Funktionen `imshow` und `show`). Konvertieren Sie die .jpg-Datei in ein numpy-array.\n",
    "\n"
   ]
  },
  {
   "cell_type": "code",
   "execution_count": null,
   "metadata": {
    "colab": {
     "base_uri": "https://localhost:8080/",
     "height": 269
    },
    "id": "OKTY-4qTkLhF",
    "outputId": "bc276542-eca8-49eb-e8eb-cb040d616c9c"
   },
   "outputs": [],
   "source": [
    "import numpy as np\n",
    "from matplotlib import pyplot as plt\n",
    "import cv2\n",
    "from PIL import Image\n",
    "import skimage\n",
    "\n",
    "path = \"leukaemie.jpg\"\n",
    "image = cv2.imread(path) \n",
    "\n",
    "# OpenCV uses BGR as its default colour order for images, matplotlib uses RGB.\n",
    "# When you display an image loaded with OpenCv in matplotlib the channels will be back to front.\n",
    "\n",
    "# convert it back to RGB\n",
    "RGB_img = cv2.cvtColor(image, cv2.COLOR_BGR2RGB)\n",
    "plt.imshow(RGB_img)\n",
    "plt.show()"
   ]
  },
  {
   "cell_type": "code",
   "execution_count": null,
   "metadata": {
    "colab": {
     "base_uri": "https://localhost:8080/"
    },
    "id": "W8Zp-U9EkLhG",
    "outputId": "972caa5e-b955-4f9e-f827-728b234aa872"
   },
   "outputs": [],
   "source": [
    "img_bunt = np.asarray(RGB_img)\n",
    "img_bunt"
   ]
  },
  {
   "cell_type": "code",
   "execution_count": null,
   "metadata": {
    "colab": {
     "base_uri": "https://localhost:8080/",
     "height": 269
    },
    "id": "24W7Gtm7kLhH",
    "outputId": "65040029-d16d-4a34-c903-c0564d4ea091"
   },
   "outputs": [],
   "source": [
    "gray_image = cv2.imread(path, 0) \n",
    "plt.imshow(gray_image, cmap='gray')\n",
    "plt.show()"
   ]
  },
  {
   "cell_type": "code",
   "execution_count": null,
   "metadata": {
    "colab": {
     "base_uri": "https://localhost:8080/"
    },
    "id": "IaZGh5vBkLhH",
    "outputId": "65668154-30c7-4baf-b125-eabb6473c4ae"
   },
   "outputs": [],
   "source": [
    "img = np.asarray(gray_image)\n",
    "img"
   ]
  },
  {
   "cell_type": "markdown",
   "metadata": {
    "id": "kP60wL4pkLhH"
   },
   "source": [
    "### 2. Aufgabe - Orts- und Frequenzraumanalyse sowie Filterung des Zellbildes\n",
    "\n",
    "Im Rahmen dieser Aufgabe sollen Sie Ihre Kenntnisse mit globalen Bildstörungen einsetzen, indem Sie auf diese Störungen zurückzuführende Veränderungen im Frequenzraum erkennen und eliminieren. Um solch eine spektrale Bildanalyse durchführen zu können, müssen Sie mittels Fourierttrasformation vom Ortsraum in den Frequenzraum wechseln. Dazu können Sie aus `numpy` die ensprechende mathematische Funktion namens `fft` benutzen. Ebenfalls lässt sich die `fft` Funktion der `cv2` library einsetzen und ist ggf. bis zu 3x performanter. \n",
    "\n",
    "**2.1: Globale Bildstörungen erzeugen, Orts- sowie Frequenzraum darstellen**\n",
    "- Erzeugen Sie im ersten Schritt globale Bildstörungen (Rauschen). Globale Bildstörung kann z.B. Gauss-Rauschen, Salz-Pfeffer-Rauschen o.ä. periodische Bildartefakte sein (vgl. VL-Folien).\n",
    "- Wenden Sie das erzeugte Rauschen auf das Bild `leukaemie.jpg` an. \n",
    "- Wenden Sie die Fouriertransformation sowohl auf das Grauwertbild als auch auf die verrauschte Kopie des Grauwertbildes an.\n",
    "- Visualisieren Sie beide Bilder mit ihren jeweiligen Frequenzspektren dar (`subplot` mit 2x2-Raster)\n",
    "\n",
    "\n",
    "**2.2: Histogramme erzeugen**\n",
    "- Visualisieren Sie die Histogramme des verrauschten sowie des unverarbeiteten Originalbildes, um die Grauwertverteilungen darzustellen.\n",
    "\n",
    "\n",
    "**2.3: Filterung im Frequenzraum**\n",
    "- Führen Sie eine Filterung des verrauschten Bildes (im Frequenzraum!) durch, um die zuvor (in der Teilaufgabe 2.1) erzeugten Störungen wieder weitesgehend zu eliminieren\n",
    "- Visualisieren Sie das gefilterte Bild sowie das dazugehörige Frequenzspektrum nebeneinander dar.\n",
    "\n",
    "**2.4: Erläuterung der verwendeten Methoden**\n",
    "- Erläutern Sie stichpunktartig die Funktionsweise der verwendeten Funktionen zur Rauscherzeugung sowie Rauschunterdrückung.\n",
    "- Erläutern Sie stichpunktartig die Funktionsweise der eingesetzten FFT sowie iFFT! \n",
    "\n",
    "\n",
    "**Hinweise:**\n",
    "- Beim Einlesen des Bildes (z.B. mit `imread` aus der Bibliothek `skimage`) den Parameter `as_gray` gleich 'True' setzen und mit diesem Graubild weiterarbeiten. Beim plotten müssen Sie ggf. dennoch `cmap='gray'` setzen.\n",
    "- Falls Sie Gauss-Rauschen erzeugen, dann sollte der Sigma-Wert nicht das Maximum von 1.0 überschreiten - denn es reicht ein leichtes Rauschen, das zusätzlich zum Ortsraum auch im Frequenzraum erkennbar ist.\n",
    "- Vor der Anwendung der Fouriertransformation müssen Sie die Bildgröße anpassen, da das Originalbild nicht quadratisch ist (vgl. VL-Folien zur FFT: Anzahl Zeilen/Spalten muss identisch sein!)\n",
    "- Führen Sie die Filterung im Frequenzraum durch, weil es sich um eine globale Bildstörung handelt! Überlegen Sie vorher, was der Filter bewirken soll (glätten? Kanten hervorheben?, ..) und probieren Sie unterschiedliche Filterkerngrößen (3x3, 5x5,7x7) aus! Und denken Sie an die anschließende Rücktransformation!\n",
    "\n"
   ]
  },
  {
   "cell_type": "markdown",
   "metadata": {
    "id": "lMtbypaTkLhH"
   },
   "source": [
    "### 2.1: Globale Bildstörungen erzeugen, Orts- sowie Frequenzraum darstellen"
   ]
  },
  {
   "cell_type": "code",
   "execution_count": null,
   "metadata": {
    "colab": {
     "base_uri": "https://localhost:8080/"
    },
    "id": "GTQia8jZkLhI",
    "outputId": "075cb902-8e36-4cd3-f78b-5f86cfe75c21"
   },
   "outputs": [],
   "source": [
    "#Bildgröße anpassen, falls Anzahl Zeilen ungleich Spalten. Wichtig für die FFT!!!\n",
    "row, col= img.shape\n",
    "print(row, col)\n",
    "if row != col:\n",
    "    img = np.array(Image.fromarray(img).resize((row,row), resample=1))"
   ]
  },
  {
   "cell_type": "code",
   "execution_count": null,
   "metadata": {
    "colab": {
     "base_uri": "https://localhost:8080/"
    },
    "id": "1zYkrgObkLhI",
    "outputId": "260ea414-6230-462c-9a09-3abc3114b800"
   },
   "outputs": [],
   "source": [
    "img.shape"
   ]
  },
  {
   "cell_type": "markdown",
   "metadata": {
    "id": "TlLHvz9kQ4jA"
   },
   "source": [
    "![Ekran Resmi 2022-11-24 23.10.30.png](data:image/png;base64,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)"
   ]
  },
  {
   "cell_type": "code",
   "execution_count": null,
   "metadata": {
    "colab": {
     "base_uri": "https://localhost:8080/"
    },
    "id": "4axDZnXMkLhI",
    "outputId": "6346d4a4-f354-49e4-c63d-b8936833c48c"
   },
   "outputs": [],
   "source": [
    "#Globale Störung in Form von Gauss-Normalverteilung erzeugen\n",
    "mean = 0 #Mittelwert(u)\n",
    "var = 100 \n",
    "sigma = var ** 0.5 #Standardabweichung(o); Doppelstern->Potenz!\n",
    "gaussian = np.random.normal(mean, sigma, (row, row))\n",
    "noisy_image = np.zeros(img.shape, np.float32)\n",
    "\n",
    "if len(img.shape) == 2:\n",
    "    # Graubild\n",
    "    noisy_image = img + gaussian\n",
    "else:\n",
    "    # RGB\n",
    "    noisy_image[:, :, 0] = img[:, :, 0] + gaussian\n",
    "    noisy_image[:, :, 1] = img[:, :, 1] + gaussian\n",
    "    noisy_image[:, :, 2] = img[:, :, 2] + gaussian\n",
    "\n",
    "print(noisy_image)\n",
    "\n",
    "cv2.normalize(noisy_image, noisy_image, 0, 255, cv2.NORM_MINMAX, dtype=-1)\n",
    "noisy_image = noisy_image.astype(np.uint8)\n",
    "\n",
    "#cv2.imwrite(\"gaussian.jpg\",noisy_image * 255)"
   ]
  },
  {
   "cell_type": "code",
   "execution_count": null,
   "metadata": {
    "colab": {
     "base_uri": "https://localhost:8080/"
    },
    "id": "MTmlNLRkkLhJ",
    "outputId": "36e4c06e-1e89-480d-d3b7-1b51d75c689b"
   },
   "outputs": [],
   "source": [
    "img"
   ]
  },
  {
   "cell_type": "code",
   "execution_count": null,
   "metadata": {
    "colab": {
     "base_uri": "https://localhost:8080/"
    },
    "id": "AYCfSko9kLhJ",
    "outputId": "5fcf51a2-e964-4457-e075-abd079d42843"
   },
   "outputs": [],
   "source": [
    "print(img.shape)\n",
    "print(gaussian.shape)\n",
    "print(noisy_image.shape)"
   ]
  },
  {
   "cell_type": "code",
   "execution_count": null,
   "metadata": {
    "colab": {
     "base_uri": "https://localhost:8080/"
    },
    "id": "dmrlo54bkLhJ",
    "outputId": "f3dedb31-0d19-467e-cfec-a7b99689a858"
   },
   "outputs": [],
   "source": [
    "gaussian"
   ]
  },
  {
   "cell_type": "code",
   "execution_count": null,
   "metadata": {
    "colab": {
     "base_uri": "https://localhost:8080/"
    },
    "id": "CYtRRjx0kLhJ",
    "outputId": "b9426d59-384c-42d2-fd08-01797a369ce6"
   },
   "outputs": [],
   "source": [
    "noisy_image"
   ]
  },
  {
   "cell_type": "code",
   "execution_count": null,
   "metadata": {
    "id": "XieNBRzSkLhJ"
   },
   "outputs": [],
   "source": [
    "#beide bilder fourier transformieren -> Frequenzspektrum\n",
    "\n",
    "# Original\n",
    "f = np.fft.fft2(img)\n",
    "fshift = np.fft.fftshift(f)\n",
    "freq_spektrum_original = 20*np.log(np.abs(fshift)).astype(np.uint8)\n",
    "\n",
    "# Noisy\n",
    "f_noisy = np.fft.fft2(noisy_image)\n",
    "fshift_noisy = np.fft.fftshift(f_noisy)\n",
    "freq_spektrum_noisyImg = 20*np.log(np.abs(fshift_noisy)).astype(np.uint8)"
   ]
  },
  {
   "cell_type": "code",
   "execution_count": null,
   "metadata": {
    "colab": {
     "base_uri": "https://localhost:8080/"
    },
    "id": "yG_3p7OGkLhK",
    "outputId": "c0609d6e-4947-47d8-e415-13e6c6b03ce0"
   },
   "outputs": [],
   "source": [
    "freq_spektrum_original"
   ]
  },
  {
   "cell_type": "code",
   "execution_count": null,
   "metadata": {
    "colab": {
     "base_uri": "https://localhost:8080/"
    },
    "id": "LrS40UYPkLhK",
    "outputId": "a8f4ad91-e977-43dc-dd52-9f9ce5d8a9a7"
   },
   "outputs": [],
   "source": [
    "freq_spektrum_noisyImg"
   ]
  },
  {
   "cell_type": "code",
   "execution_count": null,
   "metadata": {
    "colab": {
     "base_uri": "https://localhost:8080/",
     "height": 661
    },
    "id": "7w7vMcgFkLhK",
    "outputId": "b4f0b9b4-36b2-4546-f074-66c165cfbd69"
   },
   "outputs": [],
   "source": [
    "#visualisieren\n",
    "fig, axes = plt.subplots(2, 2, figsize=(10, 10), sharex=True, sharey=True)\n",
    "ax = axes.ravel()\n",
    "\n",
    "ax[0].imshow(img, cmap= 'gray')\n",
    "ax[0].set_title('Originalbild', fontsize=20)\n",
    "\n",
    "ax[1].imshow(freq_spektrum_original, cmap= 'gray')\n",
    "ax[1].set_title('Frequenzspektrum des Originalbildes', fontsize=20)\n",
    "\n",
    "ax[2].imshow(noisy_image, cmap = 'gray')\n",
    "ax[2].set_title('Noisy Image', fontsize=20)\n",
    "\n",
    "ax[3].imshow(freq_spektrum_noisyImg, cmap= 'gray')\n",
    "ax[3].set_title('Frequenzspektrum des verrauschten Bildes', fontsize=20)\n",
    "\n",
    "for a in ax.ravel():\n",
    "    a.axis('off')\n",
    "fig.tight_layout()"
   ]
  },
  {
   "cell_type": "markdown",
   "metadata": {
    "id": "1wzcOYijkLhK"
   },
   "source": [
    "### 2.2: Histogramme erzeugen"
   ]
  },
  {
   "cell_type": "code",
   "execution_count": null,
   "metadata": {
    "colab": {
     "base_uri": "https://localhost:8080/",
     "height": 318
    },
    "id": "n8aN4qFWkLhK",
    "outputId": "796086fd-9fc4-4e83-e0be-b2fa38f808a9"
   },
   "outputs": [],
   "source": [
    "plt.subplot(2,2,1)\n",
    "plt.imshow(img,cmap='gray')\n",
    "print(img.shape)\n",
    "plt.title('Image')\n",
    "plt.xticks([])\n",
    "plt.yticks([])\n",
    "\n",
    "plt.subplot(2,2,2)\n",
    "plt.hist(img.ravel(),256,[0,255])\n",
    "plt.title('Histogram of the original Image')\n",
    "\n",
    "plt.subplot(2,2,3)\n",
    "plt.imshow(noisy_image,cmap='gray')\n",
    "plt.title('Noisy Image')\n",
    "plt.xticks([])\n",
    "plt.yticks([])\n",
    "\n",
    "plt.subplot(2,2,4)\n",
    "plt.hist(noisy_image.ravel(),256,[0,255])\n",
    "plt.title('Histogram of the noisy Image')\n",
    "\n",
    "\n",
    "# set the spacing between subplots\n",
    "plt.subplots_adjust(left=0.1,\n",
    "                    bottom=0.1,\n",
    "                    right=0.9,\n",
    "                    top=0.86,\n",
    "                    wspace=0.4,\n",
    "                    hspace=0.4)\n",
    "\n",
    "plt.suptitle(\"Grauwertverteilungen\")\n",
    "plt.show()"
   ]
  },
  {
   "cell_type": "markdown",
   "metadata": {
    "id": "FqHKbb9CkLhL"
   },
   "source": [
    "### 2.3: Filterung im Frequenzraum"
   ]
  },
  {
   "cell_type": "markdown",
   "metadata": {
    "id": "ZLRyxhWTpjVG"
   },
   "source": [
    "![eqngaus2.gif](data:image/gif;base64,R0lGODlhEQE+AIAAAAAAAP///yH5BAEAAAEALAAAAAARAT4AAAL+jI+py+0Po5y02oszApzr03nfSJbmiaYkALKfG4jqTNezbN8ifnUGnwsKh4sQMeWLwTBJ4PEJNYWSUZQzc61qtxUq95W1eL/kcmNs7i5H4bR7i35Dwut5XY7XxvNF1z1GscM3GLVH+APz99cHcugoZJg25TfJUNfEMrn4yLnSRkb5mbBmpNR5CinKRSmhOWUKiyqrsylZu+HqsXM729uj+iUYqLDraywFXKWbybtBzHocrREJWtnVRy2tbZksu9i9vZ1tTApdCNd8WBrusKyXTgPulgvvSV8vJn9mHdtSzf7kngyBBAvSs4PpFa4y+gCeUjgtzjp/DPE5fEiRiaH+MQ1pXXSICQs1Hh11fAQYUuMtHOOOlDypzqISXuXetISJ7ubMX6Jq7hsIDo2TlzghnkiUTp/OhdyYzUzmrsUdoh+NLEWIqJXMnfkUIV2W1BzXUTQNTuzlharUrHZ+dLW4Z0nCCaFwTS1rVm1OsjWAKhz4liejtfkQyR26FWZavWTr+j0bIa4rwg+uNqbMF0rezZytHYyHtBGyWmfHlVzsFSdPyEhCsy0xEkg2y3ZrD1YdiHE7P7EYRxL6KW1X288icyanm1ujYlboIL4tXA3x4sbNHpPY/C9trNjuYhvbDzx1w/twf392KbEZo0aZ2mXG/H15w17V++KX8fX1yVfigPtoT99P+LlnnluYPcUacsAg9lVllQGYX4F+dVfgbrCldmCGmkEIGoEV5mZfeORF6GEhmgwx4Ye/rNCUhuJtKF9AyV10GoYvkihjOTP+pKJIiW3CoX7KcLSjcj2KhE41JBU53pFOgpGejrk0NSBgT1554WOfvXdifiFieSVq9zQ2JX0JgokmQq7B0h9LdwWZZpwt6pfInC7Kiaca39R52515/vkgkGJluB2gccYm5IglGsroeaJlxOBljU7ap5ApllgopUeOSZl/02k6qUDEeaooqJRy6iWDZ5rKapMi+llhAQA7)"
   ]
  },
  {
   "cell_type": "markdown",
   "metadata": {
    "id": "jhNFR5jg6zWB"
   },
   "source": [
    "![1GEFl.png](data:image/png;base64,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)"
   ]
  },
  {
   "cell_type": "code",
   "execution_count": null,
   "metadata": {
    "colab": {
     "base_uri": "https://localhost:8080/",
     "height": 303
    },
    "id": "_dU93f1wkLhL",
    "outputId": "ad89d3af-d053-470b-c876-8d2fd529f43b"
   },
   "outputs": [],
   "source": [
    "# Create Gaussian Filter: Low Pass Filter\n",
    "M,N = freq_spektrum_noisyImg.shape\n",
    "H = np.zeros((M,N), dtype=np.float32)\n",
    "D0 = 250\n",
    "for x in range(M):\n",
    "    for y in range(N):\n",
    "        D = np.sqrt((x-M/2)**2 + (y-N/2)**2)\n",
    "        H[x,y] = np.exp(-D**2/(2*D0*D0))\n",
    "\n",
    "\n",
    "# fourier        \n",
    "gauss = np.fft.fft2(H)\n",
    "gauss_shift = np.fft.fftshift(gauss)\n",
    "freq_spektrum_gauss = 20 * np.log(np.abs(gauss_shift)).astype(np.uint8)\n",
    "\n",
    "plt.figure(figsize=(5,5))\n",
    "plt.imshow(freq_spektrum_gauss, cmap='gray')\n",
    "plt.axis('off')\n",
    "plt.show()"
   ]
  },
  {
   "cell_type": "code",
   "execution_count": null,
   "metadata": {
    "id": "sjR2WsabkLhL"
   },
   "outputs": [],
   "source": [
    "# Image Filters\n",
    "Gshift = fshift_noisy * H\n",
    "freq_spektrum_g = 20 * np.log(np.abs(Gshift)).astype(np.uint8)\n",
    "\n",
    "G = np.fft.ifftshift(Gshift)\n",
    "g = np.abs(np.fft.ifft2(G))"
   ]
  },
  {
   "cell_type": "code",
   "execution_count": null,
   "metadata": {
    "colab": {
     "base_uri": "https://localhost:8080/",
     "height": 729
    },
    "id": "rnODPT33kLhL",
    "outputId": "200ebfe7-e658-4f50-f586-d6df39acd2a7"
   },
   "outputs": [],
   "source": [
    "#visualisieren\n",
    "fig, axes = plt.subplots(3, 2, figsize=(10, 10), sharex=True, sharey=True)\n",
    "ax = axes.ravel()\n",
    "\n",
    "ax[0].imshow(img, cmap= 'gray')\n",
    "ax[0].set_title('Originalbild', fontsize=20)\n",
    "\n",
    "ax[1].imshow(freq_spektrum_original, cmap= 'gray')\n",
    "ax[1].set_title('Frequenzspektrum des Originalbildes', fontsize=15)\n",
    "\n",
    "ax[2].imshow(noisy_image, cmap = 'gray')\n",
    "ax[2].set_title('Noisy Image', fontsize=20)\n",
    "\n",
    "ax[3].imshow(freq_spektrum_noisyImg, cmap= 'gray')\n",
    "ax[3].set_title('Frequenzspektrum des verrauschten Bildes', fontsize=15)\n",
    "\n",
    "ax[4].imshow(g, cmap= 'gray')\n",
    "ax[4].set_title('Bild nach Low Pass Filter', fontsize=15)\n",
    "\n",
    "ax[5].imshow(freq_spektrum_g, cmap= 'gray')\n",
    "ax[5].set_title('Frequenzspektrum nach Low Pass Filter', fontsize=15)\n",
    "\n",
    "for a in ax.ravel():\n",
    "    a.axis('off')\n",
    "fig.tight_layout()"
   ]
  },
  {
   "cell_type": "code",
   "execution_count": null,
   "metadata": {
    "colab": {
     "base_uri": "https://localhost:8080/",
     "height": 616
    },
    "id": "VPRrHz27zrw2",
    "outputId": "310329e1-fe93-4ee5-e526-246f26235e83"
   },
   "outputs": [],
   "source": [
    "blur_7 = cv2.GaussianBlur(noisy_image,(7,7),0)\n",
    "blur_5 = cv2.GaussianBlur(noisy_image,(5,5),0)\n",
    "blur_3 = cv2.GaussianBlur(noisy_image,(3,3),0)\n",
    "\n",
    "fig1, axes1 = plt.subplots(4, 2, figsize=(10, 10), sharex=True, sharey=True)\n",
    "ax1 = axes1.ravel()\n",
    "\n",
    "f_blur7 = np.fft.fft2(blur_7)\n",
    "fshift_blur7 = np.fft.fftshift(f_blur7)\n",
    "freq_spektrum_blur7 = 20*np.log(np.abs(fshift_blur7)).astype(np.uint8)\n",
    "\n",
    "ax1[0].imshow(blur_7, cmap= 'gray')\n",
    "ax1[0].set_title('Gauss 7x7', fontsize=20)\n",
    "\n",
    "ax1[1].imshow(freq_spektrum_blur7, cmap= 'gray')\n",
    "ax1[1].set_title('Frequenzspektrum Gauss 7x7', fontsize=20)\n",
    "\n",
    "f_blur5 = np.fft.fft2(blur_5)\n",
    "fshift_blur5 = np.fft.fftshift(f_blur5)\n",
    "freq_spektrum_blur5 = 20*np.log(np.abs(fshift_blur5)).astype(np.uint8)\n",
    "\n",
    "ax1[2].imshow(blur_5, cmap= 'gray')\n",
    "ax1[2].set_title('Gauss 5x5', fontsize=20)\n",
    "\n",
    "ax1[3].imshow(freq_spektrum_blur5, cmap= 'gray')\n",
    "ax1[3].set_title('Frequenzspektrum Gauss 5x5', fontsize=20)\n",
    "\n",
    "f_blur3 = np.fft.fft2(blur_3)\n",
    "fshift_blur3 = np.fft.fftshift(f_blur3)\n",
    "freq_spektrum_blur3 = 20*np.log(np.abs(fshift_blur3)).astype(np.uint8)\n",
    "\n",
    "ax1[4].imshow(blur_3, cmap= 'gray')\n",
    "ax1[4].set_title('Gauss 3x3', fontsize=20)\n",
    "\n",
    "ax1[5].imshow(freq_spektrum_blur3, cmap= 'gray')\n",
    "ax1[5].set_title('Frequenzspektrum Gauss 3x3', fontsize=20)\n",
    "\n",
    "ax1[6].imshow(img, cmap= 'gray')\n",
    "ax1[6].set_title('Originalbild', fontsize=20)\n",
    "\n",
    "ax1[7].imshow(freq_spektrum_original, cmap= 'gray')\n",
    "ax1[7].set_title('Frequenzspektrum des Originalbildes', fontsize=15)\n",
    "\n",
    "# set the spacing between subplots\n",
    "plt.subplots_adjust(left=0.1,\n",
    "                    bottom=0.1,\n",
    "                    right=0.9,\n",
    "                    top=0.86,\n",
    "                    wspace=0.4,\n",
    "                    hspace=0.4)"
   ]
  },
  {
   "cell_type": "markdown",
   "metadata": {
    "id": "gXvaeSVRkLhL"
   },
   "source": [
    "**2.4: Erläuterung der verwendeten Methoden**\n",
    "- Erläutern Sie stichpunktartig die Funktionsweise der verwendeten Funktionen zur Rauscherzeugung sowie Rauschunterdrückung.\n",
    "- Erläutern Sie stichpunktartig die Funktionsweise der eingesetzten FFT sowie iFFT! "
   ]
  },
  {
   "cell_type": "markdown",
   "metadata": {
    "id": "eU-v3gInkLhM"
   },
   "source": [
    "Rauscherzeugung : Die Matrix wird gebildet, indem Zufallszahlen aus der Gaußschen Standardnormalverteilung ausgewählt werden. Ein verrauschtes Bild wird durch Summieren dieser Matrix mit dem ursprünglichen Bild erhalten.\n",
    "\n",
    "Rauschunterdrückung : Da unser Ziel darin besteht, das Bild zu glätten, d. h. die hohen Frequenzen zu entfernen, haben wir einen Tiefpassfilter verwendet. Wir haben die Einträge des Filterkerns aus der Gauß-Funktion erstellt.\n",
    "\n",
    "FFT : FFT teilt das Bild in Sinus und Cosinus. Anschließend berechnet er das dem Signal entsprechende Frequenzspektrum. Spektren werden in einem einzigen Frequenzspektrum synthetisiert. Niedrige Frequenzen stellen allmähliche Änderungen im Bild dar; Sie enthalten die meisten Informationen, da sie die Gesamtform oder das Muster im Bild bestimmen.\n",
    "\n",
    "IFFT :Bei umgekehrter Verwendung der fft-Formel erhält man das Bild vor der Transformation."
   ]
  },
  {
   "cell_type": "markdown",
   "metadata": {
    "id": "5eXtpqvBkLhM"
   },
   "source": [
    "### 3. Morphologische Operationen\n",
    " \n",
    "**3.1 Strukturen verkleinern/vergrößern, um schmale Verbindungen zu lösen/Lücken zu schließen**\n",
    "\n",
    "Führen Sie folgende morphologische Operationen mit dem Originalbild `leukaemie.jpg` durch:\n",
    "    - Erosion\n",
    "    - Dilation\n",
    "    - Opening\n",
    "    - Closing\n",
    " \n",
    "Hierbei können Sie sowohl `Skimage`- als auch `CV2`-Bibliotheken benutzen. Stellen Sie Ihre Ergebnisse in einem 2x2-subplot dar. \n",
    "\n",
    "\n",
    "**3.2 Merkmalsextraktion**\n",
    "\n",
    "- Welche, der in der Teilaufgabe 3.1 eingesetzten morphologischen Operationen ist am besten geeignet, falls die Anzahl der Zellen im Bild gezählt werden soll? \n",
    "\n",
    "- Zählen Sie ALLE Zellen in diesem Bild, nachdem sie eine \"passende\" morphologische Operation durchgeführt haben. Tipp: Zur Detektion von Kreisen/Ellipsen können Sie die \"Hough-Transformation\" anwenden.\n",
    "\n",
    "**3.3. Bonus**\n",
    "Zählen Sie NUR die lila gefärbten Leukozyten.\n",
    " "
   ]
  },
  {
   "cell_type": "code",
   "execution_count": null,
   "metadata": {
    "id": "_7od7L6QkLhM"
   },
   "outputs": [],
   "source": [
    "original = cv2.imread(path,0)\n",
    "\n",
    "# binarize the image\n",
    "# optimal threshold value\n",
    "binr = cv2.threshold(original, 0, 255, cv2.THRESH_BINARY+cv2.THRESH_OTSU)[1]\n",
    "  \n",
    "# invert the image\n",
    "invert = cv2.bitwise_not(binr) # größer als 0 --> 0 ; 0 -->255\n",
    "\n",
    "kernel = np.ones((9,9),np.uint8)\n",
    "erosion = cv2.erode(invert,kernel,iterations = 1)\n",
    "dilation = cv2.dilate(invert,kernel,iterations = 1)\n",
    "opening = cv2.morphologyEx(invert, cv2.MORPH_OPEN, kernel, iterations = 1)\n",
    "closing = cv2.morphologyEx(invert, cv2.MORPH_CLOSE, kernel, iterations = 1)\n",
    "#Opening : \n",
    "opening1 = cv2.dilate(erosion,kernel,iterations = 1)\n",
    "\n",
    "#Closing : \n",
    "closing1 = cv2.erode(dilation,kernel,iterations = 1)"
   ]
  },
  {
   "cell_type": "code",
   "execution_count": null,
   "metadata": {
    "colab": {
     "base_uri": "https://localhost:8080/",
     "height": 648
    },
    "id": "bJnNKZ3TkLhM",
    "outputId": "fd85dbfa-1616-47f1-eaf7-32ce5f5560a3"
   },
   "outputs": [],
   "source": [
    "#visualisieren\n",
    "fig, axes = plt.subplots(2, 2, figsize=(10, 10), sharex=True, sharey=True)\n",
    "ax = axes.ravel()\n",
    "\n",
    "ax[0].imshow(erosion, cmap= 'gray')\n",
    "ax[0].set_title('Erosion', fontsize=20)\n",
    "\n",
    "ax[1].imshow(dilation, cmap= 'gray')\n",
    "ax[1].set_title('Dilation', fontsize=20)\n",
    "\n",
    "ax[2].imshow(opening, cmap = 'gray')\n",
    "ax[2].set_title('Opening', fontsize=20)\n",
    "\n",
    "ax[3].imshow(closing, cmap= 'gray')\n",
    "ax[3].set_title('Closing', fontsize=20)\n",
    "\n",
    "for a in ax.ravel():\n",
    "    a.axis('off')\n",
    "fig.tight_layout()"
   ]
  },
  {
   "cell_type": "code",
   "execution_count": null,
   "metadata": {
    "id": "77D6UrhzkLhN"
   },
   "outputs": [],
   "source": [
    "original = cv2.imread(path,0)\n",
    "\n",
    "kernel = np.ones((9,9),np.uint8)\n",
    "erosion = cv2.erode(original,kernel,iterations = 1)\n",
    "dilation = cv2.dilate(original,kernel,iterations = 1)\n",
    "opening = cv2.morphologyEx(original, cv2.MORPH_OPEN, kernel, iterations = 1)\n",
    "closing = cv2.morphologyEx(original, cv2.MORPH_CLOSE, kernel, iterations = 1)\n",
    "#Opening : \n",
    "opening1 = cv2.dilate(erosion,kernel,iterations = 1)\n",
    "\n",
    "#Closing : \n",
    "closing1 = cv2.erode(dilation,kernel,iterations = 1)"
   ]
  },
  {
   "cell_type": "code",
   "execution_count": null,
   "metadata": {
    "colab": {
     "base_uri": "https://localhost:8080/",
     "height": 286
    },
    "id": "FvlccBLMkLhN",
    "outputId": "eb31482e-f335-4878-a08d-0e08bd3d3806"
   },
   "outputs": [],
   "source": [
    "plt.imshow(opening1,cmap='gray')"
   ]
  },
  {
   "cell_type": "code",
   "execution_count": null,
   "metadata": {
    "colab": {
     "base_uri": "https://localhost:8080/",
     "height": 286
    },
    "id": "FhYFqm7FkLhN",
    "outputId": "f542ebc7-0182-46aa-b6ad-e65d0023c458"
   },
   "outputs": [],
   "source": [
    "plt.imshow(closing1,cmap='gray')"
   ]
  },
  {
   "cell_type": "code",
   "execution_count": null,
   "metadata": {
    "colab": {
     "base_uri": "https://localhost:8080/",
     "height": 648
    },
    "id": "UdHQebNSkLhN",
    "outputId": "ae8f23e5-a6f5-4682-bc59-66869dea08f1"
   },
   "outputs": [],
   "source": [
    "#visualisieren\n",
    "fig, axes = plt.subplots(2, 2, figsize=(10, 10), sharex=True, sharey=True)\n",
    "ax = axes.ravel()\n",
    "\n",
    "ax[0].imshow(erosion, cmap= 'gray')\n",
    "ax[0].set_title('Erosion', fontsize=20)\n",
    "\n",
    "ax[1].imshow(dilation, cmap= 'gray')\n",
    "ax[1].set_title('Dilation', fontsize=20)\n",
    "\n",
    "ax[2].imshow(opening, cmap = 'gray')\n",
    "ax[2].set_title('Opening', fontsize=20)\n",
    "\n",
    "ax[3].imshow(closing, cmap= 'gray')\n",
    "ax[3].set_title('Closing', fontsize=20)\n",
    "\n",
    "for a in ax.ravel():\n",
    "    a.axis('off')\n",
    "fig.tight_layout()"
   ]
  },
  {
   "cell_type": "code",
   "execution_count": null,
   "metadata": {
    "colab": {
     "base_uri": "https://localhost:8080/",
     "height": 648
    },
    "id": "w3IrFR6OkLhP",
    "outputId": "7071f3b3-c529-411c-bde9-edad827385f0"
   },
   "outputs": [],
   "source": [
    "img = cv2.imread(path,0)\n",
    "kernel = np.ones((9,9),np.uint8)\n",
    "erosion = cv2.erode(img,kernel,iterations = 1)\n",
    "dilation = cv2.dilate(img,kernel,iterations = 1)\n",
    "opening = cv2.morphologyEx(img, cv2.MORPH_OPEN, kernel, iterations = 1)\n",
    "closing = cv2.morphologyEx(img, cv2.MORPH_CLOSE, kernel, iterations = 1)\n",
    "\n",
    "img = erosion\n",
    "img = cv2.medianBlur(img,5)\n",
    "cimg1 = cv2.cvtColor(img,cv2.COLOR_GRAY2BGR)\n",
    "circles = cv2.HoughCircles(img,cv2.HOUGH_GRADIENT,1,20,\n",
    "                            param1=50,param2=25,minRadius=20,maxRadius=100)\n",
    "circles = np.uint16(np.around(circles))\n",
    "for i in circles[0,:]:\n",
    "    # draw the outer circle\n",
    "    cv2.circle(cimg1,(i[0],i[1]),i[2],(0,255,0),2)\n",
    "    # draw the center of the circle\n",
    "    cv2.circle(cimg1,(i[0],i[1]),2,(0,0,255),3)\n",
    "#cv.imshow('detected circles',cimg)\n",
    "#cimg = plt.imshow(cimg1)\n",
    "#cv.waitKey(0)\n",
    "#cv.destroyAllWindows()\n",
    "\n",
    "img = dilation\n",
    "img = cv2.medianBlur(img,5)\n",
    "cimg2 = cv2.cvtColor(img,cv2.COLOR_GRAY2BGR)\n",
    "circles = cv2.HoughCircles(img,cv2.HOUGH_GRADIENT,1,20,\n",
    "                            param1=50,param2=25,minRadius=20,maxRadius=100)\n",
    "circles = np.uint16(np.around(circles))\n",
    "for i in circles[0,:]:\n",
    "    # draw the outer circle\n",
    "    cv2.circle(cimg2,(i[0],i[1]),i[2],(0,255,0),2)\n",
    "    # draw the center of the circle\n",
    "    cv2.circle(cimg2,(i[0],i[1]),2,(0,0,255),3)\n",
    "#cv.imshow('detected circles',cimg)\n",
    "#cimg = plt.imshow(cimg2)\n",
    "#cv.waitKey(0)\n",
    "#cv.destroyAllWindows()\n",
    "\n",
    "img = opening\n",
    "img = cv2.medianBlur(img,5)\n",
    "cimg3 = cv2.cvtColor(img,cv2.COLOR_GRAY2BGR)\n",
    "circles = cv2.HoughCircles(img,cv2.HOUGH_GRADIENT,1,20,\n",
    "                            param1=50,param2=25,minRadius=20,maxRadius=100)\n",
    "circles = np.uint16(np.around(circles))\n",
    "for i in circles[0,:]:\n",
    "    # draw the outer circle\n",
    "    cv2.circle(cimg3,(i[0],i[1]),i[2],(0,255,0),2)\n",
    "    # draw the center of the circle\n",
    "    cv2.circle(cimg3,(i[0],i[1]),2,(0,0,255),3)\n",
    "#cv.imshow('detected circles',cimg)\n",
    "#cimg = plt.imshow(cimg3)\n",
    "#cv.waitKey(0)\n",
    "#cv.destroyAllWindows()\n",
    "\n",
    "img = closing\n",
    "img = cv2.medianBlur(img,5)\n",
    "cimg4 = cv2.cvtColor(img,cv2.COLOR_GRAY2BGR)\n",
    "circles = cv2.HoughCircles(img,cv2.HOUGH_GRADIENT,1,20,\n",
    "                            param1=50,param2=25,minRadius=20,maxRadius=100)\n",
    "circles = np.uint16(np.around(circles))\n",
    "for i in circles[0,:]:\n",
    "    # draw the outer circle\n",
    "    cv2.circle(cimg4,(i[0],i[1]),i[2],(0,255,0),2)\n",
    "    # draw the center of the circle\n",
    "    cv2.circle(cimg4,(i[0],i[1]),2,(0,0,255),3)\n",
    "#cv.imshow('detected circles',cimg)\n",
    "#cimg = plt.imshow(cimg4)\n",
    "#cv.waitKey(0)\n",
    "#cv.destroyAllWindows()\n",
    "\n",
    "#visualisieren\n",
    "fig, axes = plt.subplots(2, 2, figsize=(10, 10), sharex=True, sharey=True)\n",
    "ax = axes.ravel()\n",
    "\n",
    "ax[0].imshow(cimg1, cmap= 'gray')\n",
    "ax[0].set_title('Erosion', fontsize=20)\n",
    "\n",
    "ax[1].imshow(cimg2, cmap= 'gray')\n",
    "ax[1].set_title('Dilation', fontsize=20)\n",
    "\n",
    "ax[2].imshow(cimg3, cmap = 'gray')\n",
    "ax[2].set_title('Opening', fontsize=20)\n",
    "\n",
    "ax[3].imshow(cimg4, cmap= 'gray')\n",
    "ax[3].set_title('Closing', fontsize=20)\n",
    "\n",
    "for a in ax.ravel():\n",
    "    a.axis('off')\n",
    "fig.tight_layout()\n"
   ]
  },
  {
   "cell_type": "markdown",
   "metadata": {
    "id": "EE6jIh6bkLhP"
   },
   "source": [
    "*   Closing : Nach dem Vergleich von 4 Methoden haben wir entschieden, dass Closing die beste und konsistenteste Methode ist, um Kreise zu finden.\n"
   ]
  },
  {
   "cell_type": "code",
   "execution_count": null,
   "metadata": {
    "colab": {
     "base_uri": "https://localhost:8080/",
     "height": 269
    },
    "id": "_XoP476mkLhP",
    "outputId": "69fff453-6854-4a3f-b97f-b1988e8b1e38"
   },
   "outputs": [],
   "source": [
    "img = closing\n",
    "img = cv2.medianBlur(img,5)\n",
    "cimg4 = cv2.cvtColor(img,cv2.COLOR_GRAY2BGR)\n",
    "circles = cv2.HoughCircles(img,cv2.HOUGH_GRADIENT,1,20,\n",
    "                            param1=60,param2=25,minRadius=20,maxRadius=100)\n",
    "circles = np.uint16(np.around(circles))\n",
    "for i in circles[0,:]:\n",
    "    # draw the outer circle\n",
    "    cv2.circle(cimg4,(i[0],i[1]),i[2],(0,255,0),5)\n",
    "    # draw the center of the circle\n",
    "    cv2.circle(cimg4,(i[0],i[1]),2,(0,0,255),10)\n",
    "#cv.imshow('detected circles',cimg)\n",
    "cimg = plt.imshow(cimg4)\n",
    "#cv.waitKey(0)\n",
    "#cv.destroyAllWindows()"
   ]
  },
  {
   "cell_type": "code",
   "execution_count": null,
   "metadata": {
    "colab": {
     "base_uri": "https://localhost:8080/"
    },
    "id": "KaaBR9xQkLhP",
    "outputId": "8b44220e-b678-40f8-ff00-7a2bedcb9d62"
   },
   "outputs": [],
   "source": [
    "from PIL import Image\n",
    "im = Image.open(path) \n",
    "pix = im.load()\n",
    "\n",
    "# Get the RGBA Value of the a pixel of an image\n",
    "print(pix[300,500]) \n",
    "print(pix[1850,500])\n",
    "print(pix[500,700])\n",
    "print(pix[750,810])\n",
    "print(pix[1300,1300])\n",
    "print(pix[700,800])\n",
    "print(pix[1900,400])\n",
    "print(pix[1950,400])\n",
    "print(pix[1937,500])\n",
    "print(pix[1990,410])"
   ]
  },
  {
   "cell_type": "code",
   "execution_count": null,
   "metadata": {
    "colab": {
     "base_uri": "https://localhost:8080/",
     "height": 286
    },
    "id": "PK6bjAcokLhP",
    "outputId": "4cb1a0e4-1de7-4500-8297-e45bcb9ed30f"
   },
   "outputs": [],
   "source": [
    "image = cv2.imread(path)\n",
    "original = image.copy()\n",
    "image = cv2.cvtColor(image, cv2.COLOR_BGR2HSV)\n",
    "lower = np.array([120, 70, 160], dtype=\"uint8\")\n",
    "upper = np.array([255, 255, 255], dtype=\"uint8\")\n",
    "mask = cv2.inRange(image, lower, upper)\n",
    "plt.imshow(mask,cmap='gray')"
   ]
  },
  {
   "cell_type": "code",
   "execution_count": null,
   "metadata": {
    "colab": {
     "base_uri": "https://localhost:8080/",
     "height": 286
    },
    "id": "bbuEgOVPkLhQ",
    "outputId": "56041734-d9be-4d2e-edd7-c41a53fb6915"
   },
   "outputs": [],
   "source": [
    "# binarize the image\n",
    "binr = cv2.threshold(mask, 0, 255, cv2.THRESH_BINARY+cv2.THRESH_OTSU)[1]\n",
    "  \n",
    "# invert the image\n",
    "invert = cv2.bitwise_not(binr)\n",
    "\n",
    "kernel = np.ones((9,9),np.uint8)\n",
    "closing = cv2.morphologyEx(mask, cv2.MORPH_CLOSE, kernel, iterations = 1)\n",
    "dilation = cv2.dilate(mask,kernel,iterations = 1)\n",
    "erosion = cv2.erode(mask,kernel,iterations = 1)\n",
    "plt.imshow(closing,cmap='gray')"
   ]
  },
  {
   "cell_type": "code",
   "execution_count": null,
   "metadata": {
    "colab": {
     "base_uri": "https://localhost:8080/",
     "height": 286
    },
    "id": "FlZp5tzEkLhQ",
    "outputId": "c0f6464b-8a37-4537-d7a9-b405bad4b9ee"
   },
   "outputs": [],
   "source": [
    "plt.imshow(erosion,cmap='gray')"
   ]
  },
  {
   "cell_type": "code",
   "execution_count": null,
   "metadata": {
    "colab": {
     "base_uri": "https://localhost:8080/",
     "height": 286
    },
    "id": "5pWXaJQ9kLhQ",
    "outputId": "bd0b54a4-3f58-4fca-8c15-7ab5579caffe"
   },
   "outputs": [],
   "source": [
    "plt.imshow(dilation,cmap='gray')"
   ]
  },
  {
   "cell_type": "code",
   "execution_count": null,
   "metadata": {
    "colab": {
     "base_uri": "https://localhost:8080/",
     "height": 286
    },
    "id": "fSie70r3kLhQ",
    "outputId": "a0e755e8-101e-48be-b314-ec77381b19f0"
   },
   "outputs": [],
   "source": [
    "image = cv2.imread(path)\n",
    "# convert it back to RGB\n",
    "display = cv2.cvtColor(image, cv2.COLOR_BGR2RGB)\n",
    "\n",
    "Cell_count, x_count, y_count = [], [], []\n",
    "\n",
    "# hough transform with modified circular parameters\n",
    "circles = cv2.HoughCircles(dilation, cv2.HOUGH_GRADIENT, 2, 40,param1 = 50, param2 = 50, minRadius = 30, maxRadius = 150)\n",
    " \n",
    "# circle detection and labeling using hough transformation\n",
    "if circles is not None:\n",
    "        # convert the (x, y) coordinates and radius of the circles to integers\n",
    "        circles = np.round(circles[0, :]).astype(\"int\")\n",
    " \n",
    "        # loop over the (x, y) coordinates and radius of the circles\n",
    "        for (x, y, r) in circles:\n",
    " \n",
    "                cv2.circle(display, (x, y), r, (255, 0,0), 5)\n",
    "                cv2.rectangle(display, (x - 2, y - 2),\n",
    "                              (x + 2, y + 2), (0, 255, 255), 10)\n",
    "                Cell_count.append(r)\n",
    "                x_count.append(x)\n",
    "                y_count.append(y)\n",
    "\n",
    "# show the output image\n",
    "plt.imshow(display,cmap ='gray')"
   ]
  },
  {
   "cell_type": "markdown",
   "metadata": {
    "id": "uE6d1ojokLhQ"
   },
   "source": [
    "**4. BONUSAUFGABE:** Detektieren Sie im folgenden Bild **alle Pfeile**. Treffen Sie die Entscheidung, ob die Pfeilspitze nach **rechts** oder nach **links** zeigt. \n",
    "\n",
    "![pfeile.png](attachment:pfeile.png)"
   ]
  },
  {
   "cell_type": "code",
   "execution_count": null,
   "metadata": {
    "colab": {
     "base_uri": "https://localhost:8080/",
     "height": 1000
    },
    "id": "_G-m0ITZkLhQ",
    "outputId": "dd7baa1b-f7b9-4fe7-e491-69e5b5eb1f76"
   },
   "outputs": [],
   "source": [
    "import math\n",
    "import cv2\n",
    "import numpy as np\n",
    "from matplotlib import pyplot as plt\n",
    "\n",
    "def get_filter_arrow_image(threslold_image):\n",
    "    blank_image = np.zeros_like(threslold_image)\n",
    "\n",
    "    # dilate image to remove self-intersections error\n",
    "    kernel_dilate = cv2.getStructuringElement(cv2.MORPH_RECT, (2, 2))\n",
    "    threslold_image = cv2.dilate(threslold_image, kernel_dilate, iterations=1)\n",
    "\n",
    "    contours, hierarchy = cv2.findContours(threslold_image, cv2.RETR_TREE, cv2.CHAIN_APPROX_SIMPLE)\n",
    "\n",
    "    if hierarchy is not None:\n",
    "\n",
    "        threshold_distnace = 1000\n",
    "\n",
    "        for cnt in contours:\n",
    "            hull = cv2.convexHull(cnt, returnPoints=False)\n",
    "            defects = cv2.convexityDefects(cnt, hull)\n",
    "\n",
    "            if defects is not None:\n",
    "                for i in range(defects.shape[0]):\n",
    "                    start_index, end_index, farthest_index, distance = defects[i, 0]\n",
    "\n",
    "                    # you can add more filteration based on this start, end and far point\n",
    "                    # start = tuple(cnt[start_index][0])\n",
    "                    # end = tuple(cnt[end_index][0])\n",
    "                    # far = tuple(cnt[farthest_index][0])\n",
    "\n",
    "                    if distance > threshold_distnace:\n",
    "                        cv2.drawContours(blank_image, [cnt], -1, 255, -1)\n",
    "\n",
    "        return blank_image\n",
    "    else:\n",
    "        return None\n",
    "\n",
    "\n",
    "def get_length(p1, p2):\n",
    "    line_length = ((p1[0] - p2[0]) ** 2 + (p1[1] - p2[1]) ** 2) ** 0.5\n",
    "    return line_length\n",
    "\n",
    "\n",
    "def get_max_distace_point(cnt):\n",
    "    max_distance = 0\n",
    "    max_points = None\n",
    "    for [[x1, y1]] in cnt:\n",
    "        for [[x2, y2]] in cnt:\n",
    "            distance = get_length((x1, y1), (x2, y2))\n",
    "\n",
    "            if distance > max_distance:\n",
    "                max_distance = distance\n",
    "                max_points = [(x1, y1), (x2, y2)]\n",
    "\n",
    "    return max_points\n",
    "\n",
    "\n",
    "def angle_beween_points(a, b):\n",
    "    arrow_slope = (a[0] - b[0]) / (a[1] - b[1])\n",
    "    arrow_angle = math.degrees(math.atan(arrow_slope))\n",
    "    return arrow_angle\n",
    "\n",
    "\n",
    "def get_arrow_info(arrow_image):\n",
    "    arrow_info_image = cv2.cvtColor(arrow_image.copy(), cv2.COLOR_GRAY2BGR)\n",
    "    contours, hierarchy = cv2.findContours(arrow_image, cv2.RETR_EXTERNAL, cv2.CHAIN_APPROX_SIMPLE)\n",
    "    arrow_info = []\n",
    "    if hierarchy is not None:\n",
    "\n",
    "        for cnt in contours:\n",
    "            # draw single arrow on blank image\n",
    "            blank_image = np.zeros_like(arrow_image)\n",
    "            cv2.drawContours(blank_image, [cnt], -1, 255, -1)\n",
    "\n",
    "            point1, point2 = get_max_distace_point(cnt)\n",
    "\n",
    "            angle = angle_beween_points(point1, point2)\n",
    "            lenght = get_length(point1, point2)\n",
    "\n",
    "            cv2.line(arrow_info_image, point1, point2, (0, 255, 255), 1)\n",
    "\n",
    "            cv2.circle(arrow_info_image, point1, 2, (255, 0, 0), 3)\n",
    "            cv2.circle(arrow_info_image, point2, 2, (255, 0, 0), 3)\n",
    "            \n",
    "\n",
    "            cv2.putText(arrow_info_image, \"angle : {0:0.2f}\".format(angle),\n",
    "                        (point2[0] - 60,point2[1] + 20), cv2.FONT_HERSHEY_PLAIN, 0.8, (0, 255, 0), 1)\n",
    "            cv2.putText(arrow_info_image, \"lenght : {0:0.2f}\".format(lenght),\n",
    "                        (point2[0] - 60, point2[1] + 40), cv2.FONT_HERSHEY_PLAIN, 0.8, (0, 255, 0), 1)\n",
    "            \n",
    "            print(angle)\n",
    "            print(lenght)\n",
    "            print(\"\\n\")\n",
    "\n",
    "        return arrow_info_image, arrow_info\n",
    "    else:\n",
    "        return None, None\n",
    "\n",
    "\n",
    "\n",
    "image = cv2.imread(\"pfeile.png\")\n",
    "#visualisieren\n",
    "fig, axes = plt.subplots(3, 1, figsize=(100, 100), sharex=True, sharey=True)\n",
    "ax = axes.ravel()\n",
    "\n",
    "gray_image = cv2.cvtColor(image, cv2.COLOR_BGR2GRAY)\n",
    "_, thresh_image = cv2.threshold(gray_image, 100, 255, cv2.THRESH_BINARY_INV)\n",
    "ax[0].imshow(thresh_image, cmap= 'gray')\n",
    "ax[0].set_title('thresh_image', fontsize=20)\n",
    "\n",
    "arrow_image = get_filter_arrow_image(thresh_image)\n",
    "if arrow_image is not None:\n",
    "    \n",
    "    ax[1].imshow(arrow_image, cmap= 'gray')\n",
    "    ax[1].set_title('arrow_image', fontsize=20)\n",
    "    \n",
    "    \n",
    "    #cv2.imwrite(\"arrow_image.png\", arrow_image)\n",
    "    arrow_info_image, arrow_info = get_arrow_info(arrow_image)\n",
    "    \n",
    "    ax[2].imshow(arrow_info_image, cmap= 'gray')\n",
    "    ax[2].set_title('arrow_image', fontsize=20)\n",
    "    \n",
    "    \n",
    "    cv2.imwrite(\"arrow_info_image.png\", arrow_info_image)\n",
    "\n",
    "\n",
    "for a in ax.ravel():\n",
    "    a.axis('off')\n",
    "fig.tight_layout()   "
   ]
  }
 ],
 "metadata": {
  "colab": {
   "provenance": []
  },
  "kernelspec": {
   "display_name": "Python 3 (ipykernel)",
   "language": "python",
   "name": "python3"
  },
  "language_info": {
   "codemirror_mode": {
    "name": "ipython",
    "version": 3
   },
   "file_extension": ".py",
   "mimetype": "text/x-python",
   "name": "python",
   "nbconvert_exporter": "python",
   "pygments_lexer": "ipython3",
   "version": "3.9.12"
  }
 },
 "nbformat": 4,
 "nbformat_minor": 1
}
